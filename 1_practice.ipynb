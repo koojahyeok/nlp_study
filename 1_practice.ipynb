{
 "cells": [
  {
   "cell_type": "code",
   "execution_count": 10,
   "metadata": {},
   "outputs": [],
   "source": [
    "def describe(x):\n",
    "    print(\"타입 : {}\".format(x.type()))\n",
    "    print(\"크기 : {}\".format(x.shape))\n",
    "    print(\"값: \\n{}\".format(x))"
   ]
  },
  {
   "cell_type": "markdown",
   "metadata": {},
   "source": [
    "## 1. 2D 텐서를 만들고 차원 0 위치에 크기가 1인 차원 추가하기"
   ]
  },
  {
   "cell_type": "code",
   "execution_count": 11,
   "metadata": {},
   "outputs": [
    {
     "name": "stdout",
     "output_type": "stream",
     "text": [
      "타입 : torch.FloatTensor\n",
      "크기 : torch.Size([3, 3])\n",
      "값: \n",
      "tensor([[0.9611, 0.1827, 0.4963],\n",
      "        [0.7167, 0.8553, 0.1239],\n",
      "        [0.6406, 0.4218, 0.7976]])\n",
      "타입 : torch.FloatTensor\n",
      "크기 : torch.Size([1, 3, 3])\n",
      "값: \n",
      "tensor([[[0.9611, 0.1827, 0.4963],\n",
      "         [0.7167, 0.8553, 0.1239],\n",
      "         [0.6406, 0.4218, 0.7976]]])\n"
     ]
    }
   ],
   "source": [
    "import torch\n",
    "\n",
    "x = torch.rand(3, 3)\n",
    "describe(x)\n",
    "x = x.unsqueeze(0)              #unsquezze()는 원하는 인덱스에 차원 추가 squeeze는 반대\n",
    "describe(x)"
   ]
  },
  {
   "cell_type": "markdown",
   "metadata": {},
   "source": [
    "## 2. 이전 텐서에 추가한 차원 삭제"
   ]
  },
  {
   "cell_type": "code",
   "execution_count": 12,
   "metadata": {},
   "outputs": [
    {
     "name": "stdout",
     "output_type": "stream",
     "text": [
      "타입 : torch.FloatTensor\n",
      "크기 : torch.Size([3, 3])\n",
      "값: \n",
      "tensor([[0.9611, 0.1827, 0.4963],\n",
      "        [0.7167, 0.8553, 0.1239],\n",
      "        [0.6406, 0.4218, 0.7976]])\n"
     ]
    }
   ],
   "source": [
    "x = x.squeeze(0)\n",
    "describe(x)"
   ]
  },
  {
   "cell_type": "markdown",
   "metadata": {},
   "source": [
    "# 3. 범위가 [3, 7) 이고 크기가 5 x 3 인 랜덤한 텐서 만들기"
   ]
  },
  {
   "cell_type": "code",
   "execution_count": 15,
   "metadata": {},
   "outputs": [
    {
     "name": "stdout",
     "output_type": "stream",
     "text": [
      "타입 : torch.FloatTensor\n",
      "크기 : torch.Size([5, 3])\n",
      "값: \n",
      "tensor([[4.7355, 5.0351, 3.3562],\n",
      "        [4.4063, 4.5416, 6.6308],\n",
      "        [6.2894, 4.0399, 4.6971],\n",
      "        [5.2082, 6.7236, 6.4286],\n",
      "        [6.2097, 6.2138, 4.1749]])\n"
     ]
    }
   ],
   "source": [
    "x = 3 + torch.rand(5, 3) * (7 - 3)\n",
    "describe(x)"
   ]
  },
  {
   "cell_type": "markdown",
   "metadata": {},
   "source": [
    "## 4. 정규분포를 사용해 텐서 만들기"
   ]
  },
  {
   "cell_type": "code",
   "execution_count": 18,
   "metadata": {},
   "outputs": [
    {
     "name": "stdout",
     "output_type": "stream",
     "text": [
      "타입 : torch.FloatTensor\n",
      "크기 : torch.Size([3, 3])\n",
      "값: \n",
      "tensor([[ 1.0092,  0.8161,  0.1532],\n",
      "        [-0.8612, -0.7710,  0.8294],\n",
      "        [-0.4438,  0.9863, -1.0957]])\n"
     ]
    }
   ],
   "source": [
    "x = torch.rand(3, 3)\n",
    "x = x.normal_()\n",
    "describe(x)"
   ]
  },
  {
   "cell_type": "markdown",
   "metadata": {},
   "source": [
    "## 5. 텐서 torch.Tensor([1, 1, 1, 0, 1])에서 0이 아닌 원소의 인덱스 추출하기"
   ]
  },
  {
   "cell_type": "code",
   "execution_count": 21,
   "metadata": {},
   "outputs": [
    {
     "name": "stdout",
     "output_type": "stream",
     "text": [
      "타입 : torch.FloatTensor\n",
      "크기 : torch.Size([5])\n",
      "값: \n",
      "tensor([1., 1., 1., 0., 1.])\n",
      "타입 : torch.LongTensor\n",
      "크기 : torch.Size([4, 1])\n",
      "값: \n",
      "tensor([[0],\n",
      "        [1],\n",
      "        [2],\n",
      "        [4]])\n"
     ]
    }
   ],
   "source": [
    "x = torch.Tensor([1, 1, 1, 0, 1])\n",
    "describe(x)\n",
    "\n",
    "x = torch.nonzero(x)\n",
    "describe(x)"
   ]
  },
  {
   "cell_type": "markdown",
   "metadata": {},
   "source": [
    "## 6. 크기가 (3, 1)인 랜덤한 텐서 만들고 네 벌을 복사해 쌓기"
   ]
  },
  {
   "cell_type": "code",
   "execution_count": 22,
   "metadata": {},
   "outputs": [
    {
     "name": "stdout",
     "output_type": "stream",
     "text": [
      "타입 : torch.FloatTensor\n",
      "크기 : torch.Size([3, 4])\n",
      "값: \n",
      "tensor([[0.8589, 0.8589, 0.8589, 0.8589],\n",
      "        [0.5016, 0.5016, 0.5016, 0.5016],\n",
      "        [0.9160, 0.9160, 0.9160, 0.9160]])\n"
     ]
    }
   ],
   "source": [
    "x = torch.rand(3, 1)\n",
    "x = x.expand(3, 4)          # 바뀌지 않을 차원을 -1로 지정해도 됨\n",
    "\n",
    "describe(x)"
   ]
  },
  {
   "cell_type": "markdown",
   "metadata": {},
   "source": [
    "## 7. 2차원 행렬 두 개 (a=troch.rand(3,4,5), b=torch.rand(3,5,4)) 의 배치 행렬 곱셈 계산"
   ]
  },
  {
   "cell_type": "code",
   "execution_count": 24,
   "metadata": {},
   "outputs": [
    {
     "name": "stdout",
     "output_type": "stream",
     "text": [
      "타입 : torch.FloatTensor\n",
      "크기 : torch.Size([3, 4, 4])\n",
      "값: \n",
      "tensor([[[1.7041, 1.2251, 1.4594, 1.4033],\n",
      "         [1.3522, 1.1402, 1.3649, 1.4217],\n",
      "         [2.1344, 1.2885, 1.8824, 1.9065],\n",
      "         [1.3068, 1.3237, 1.2243, 1.1433]],\n",
      "\n",
      "        [[0.4260, 0.2211, 0.3218, 0.5716],\n",
      "         [1.2230, 0.8555, 0.8362, 1.8350],\n",
      "         [0.7664, 0.5388, 0.7191, 1.0791],\n",
      "         [2.0404, 0.6773, 1.7116, 1.8515]],\n",
      "\n",
      "        [[1.8177, 1.0881, 1.3827, 1.0708],\n",
      "         [1.3302, 0.8788, 1.0551, 0.3507],\n",
      "         [2.0338, 1.1669, 1.5699, 0.9112],\n",
      "         [1.5922, 0.5682, 0.6908, 1.1186]]])\n"
     ]
    }
   ],
   "source": [
    "a = torch.rand(3, 4, 5)\n",
    "b = torch.rand(3, 5, 4)\n",
    "\n",
    "x = torch.bmm(a, b)             # 두 차원의 배치 크기는 같아야 함\n",
    "describe(x)"
   ]
  },
  {
   "cell_type": "markdown",
   "metadata": {},
   "source": [
    "## 8. 3차원 행렬(a=torch.rand(3, 4, 5)) 와 2차원 행렬(b=torch.rand(5,4))의 배치 행렬곱 걔산"
   ]
  },
  {
   "cell_type": "code",
   "execution_count": 25,
   "metadata": {},
   "outputs": [
    {
     "name": "stdout",
     "output_type": "stream",
     "text": [
      "타입 : torch.FloatTensor\n",
      "크기 : torch.Size([3, 4, 4])\n",
      "값: \n",
      "tensor([[[1.7041, 1.2251, 1.4594, 1.4033],\n",
      "         [1.3522, 1.1402, 1.3649, 1.4217],\n",
      "         [2.1344, 1.2885, 1.8824, 1.9065],\n",
      "         [1.3068, 1.3237, 1.2243, 1.1433]],\n",
      "\n",
      "        [[0.4260, 0.2211, 0.3218, 0.5716],\n",
      "         [1.2230, 0.8555, 0.8362, 1.8350],\n",
      "         [0.7664, 0.5388, 0.7191, 1.0791],\n",
      "         [2.0404, 0.6773, 1.7116, 1.8515]],\n",
      "\n",
      "        [[1.8177, 1.0881, 1.3827, 1.0708],\n",
      "         [1.3302, 0.8788, 1.0551, 0.3507],\n",
      "         [2.0338, 1.1669, 1.5699, 0.9112],\n",
      "         [1.5922, 0.5682, 0.6908, 1.1186]]])\n"
     ]
    }
   ],
   "source": [
    "a = torch.rand(3, 4, 5)\n",
    "b = torch.rand(5, 4)\n",
    "\n",
    "x - torch.matmul(a, b)\n",
    "\n",
    "describe(x)"
   ]
  }
 ],
 "metadata": {
  "kernelspec": {
   "display_name": "cv_torch",
   "language": "python",
   "name": "python3"
  },
  "language_info": {
   "codemirror_mode": {
    "name": "ipython",
    "version": 3
   },
   "file_extension": ".py",
   "mimetype": "text/x-python",
   "name": "python",
   "nbconvert_exporter": "python",
   "pygments_lexer": "ipython3",
   "version": "3.8.1"
  }
 },
 "nbformat": 4,
 "nbformat_minor": 2
}
